{
 "cells": [
  {
   "cell_type": "markdown",
   "metadata": {},
   "source": [
    "# JavaScript"
   ]
  },
  {
   "cell_type": "code",
   "execution_count": 1,
   "metadata": {
    "collapsed": false
   },
   "outputs": [
    {
     "data": {
      "text/html": [
       "\n",
       "<p style=\"text-decoration:underline;background-color:lightblue;\">Plain HTML</p>"
      ],
      "text/plain": [
       "<IPython.core.display.HTML object>"
      ]
     },
     "metadata": {},
     "output_type": "display_data"
    }
   ],
   "source": [
    "%%html\n",
    "\n",
    "<p style=\"text-decoration:underline;background-color:lightblue;\">Plain HTML</p>"
   ]
  },
  {
   "cell_type": "code",
   "execution_count": 2,
   "metadata": {
    "collapsed": false
   },
   "outputs": [
    {
     "data": {
      "application/javascript": [
       "\n",
       "const color      = 'lightgreen';\n",
       "const decoration = 'overline';\n",
       "const html = `\n",
       "<style>\n",
       "    .output p {\n",
       "        background-color : ${color};\n",
       "        text-decoration  : ${decoration};\n",
       "    }\n",
       "</style>\n",
       "<p>DOM manipulations</p>\n",
       "`;\n",
       "\n",
       "element.html(html);\n",
       "element.append(\"...\");"
      ],
      "text/plain": [
       "<IPython.core.display.Javascript object>"
      ]
     },
     "metadata": {},
     "output_type": "display_data"
    }
   ],
   "source": [
    "%%javascript\n",
    "\n",
    "const color      = 'lightgreen';\n",
    "const decoration = 'overline';\n",
    "const html = `\n",
    "<style>\n",
    "    .output p {\n",
    "        background-color : ${color};\n",
    "        text-decoration  : ${decoration};\n",
    "    }\n",
    "</style>\n",
    "<p>DOM manipulations</p>\n",
    "`;\n",
    "\n",
    "element.html(html);\n",
    "element.append(\"...\");"
   ]
  },
  {
   "cell_type": "code",
   "execution_count": 3,
   "metadata": {
    "collapsed": false
   },
   "outputs": [
    {
     "data": {
      "application/javascript": [
       "\n",
       "element.html(\"<div id='output'></div>\");\n",
       "require.config({\n",
       "    paths:{ d3: \"https://d3js.org/d3.v4.min\" }\n",
       "});\n",
       "require([\"d3\"], function (d3) {\n",
       "    const circles = [\n",
       "        { x: 50, y: 50, r: 10, value: \"#f00\" },\n",
       "        { x: 60, y: 60, r: 20, value: \"#00f\" },\n",
       "        { x: 90, y: 90, r: 30, value: \"#0f0\" }\n",
       "    ];\n",
       "    d3.json(\"http://localhost:1880/endpoints/circles\", function (error, body) {\n",
       "        d3.select(\"#output\").append(\"svg\").attr(\"width\", 130).attr(\"height\", 130)\n",
       "            .selectAll(\"circle\").data(body || circles).enter()\n",
       "                .append(\"circle\")\n",
       "                .attr(\"cx\", function (d) { return d.x; })\n",
       "                .attr(\"cy\", function (d) { return d.y; })\n",
       "                .attr(\"r\" , function (d) { return d.r; })\n",
       "                .style(\"fill\", function (d) { return d.value; })\n",
       "                .on(\"mouseover\", function (d) { d3.select(this).style(\"fill\", \"#B0B\"); })\n",
       "                .on(\"mouseout\", function(d) { d3.select(this).style(\"fill\", d.value); });\n",
       "    });\n",
       "});"
      ],
      "text/plain": [
       "<IPython.core.display.Javascript object>"
      ]
     },
     "metadata": {},
     "output_type": "display_data"
    }
   ],
   "source": [
    "%%javascript\n",
    "\n",
    "element.html(\"<div id='output'></div>\");\n",
    "require.config({\n",
    "    paths:{ d3: \"https://d3js.org/d3.v4.min\" }\n",
    "});\n",
    "require([\"d3\"], function (d3) {\n",
    "    const circles = [\n",
    "        { x: 50, y: 50, r: 10, value: \"#f00\" },\n",
    "        { x: 60, y: 60, r: 20, value: \"#00f\" },\n",
    "        { x: 90, y: 90, r: 30, value: \"#0f0\" }\n",
    "    ];\n",
    "    d3.json(\"http://localhost:1880/endpoints/circles\", function (error, body) {\n",
    "        d3.select(\"#output\").append(\"svg\").attr(\"width\", 130).attr(\"height\", 130)\n",
    "            .selectAll(\"circle\").data(body || circles).enter()\n",
    "                .append(\"circle\")\n",
    "                .attr(\"cx\", function (d) { return d.x; })\n",
    "                .attr(\"cy\", function (d) { return d.y; })\n",
    "                .attr(\"r\" , function (d) { return d.r; })\n",
    "                .style(\"fill\", function (d) { return d.value; })\n",
    "                .on(\"mouseover\", function (d) { d3.select(this).style(\"fill\", \"#B0B\"); })\n",
    "                .on(\"mouseout\", function(d) { d3.select(this).style(\"fill\", d.value); });\n",
    "    });\n",
    "});"
   ]
  },
  {
   "cell_type": "code",
   "execution_count": 4,
   "metadata": {
    "collapsed": false
   },
   "outputs": [
    {
     "name": "stdout",
     "output_type": "stream",
     "text": [
      "200\n"
     ]
    }
   ],
   "source": [
    "import requests\n",
    "\n",
    "print(requests.get('http://localhost:1880').status_code)"
   ]
  },
  {
   "cell_type": "code",
   "execution_count": null,
   "metadata": {
    "collapsed": true
   },
   "outputs": [],
   "source": []
  }
 ],
 "metadata": {
  "kernelspec": {
   "display_name": "Python 3",
   "language": "python",
   "name": "python3"
  },
  "language_info": {
   "codemirror_mode": {
    "name": "ipython",
    "version": 3
   },
   "file_extension": ".py",
   "mimetype": "text/x-python",
   "name": "python",
   "nbconvert_exporter": "python",
   "pygments_lexer": "ipython3",
   "version": "3.5.2"
  }
 },
 "nbformat": 4,
 "nbformat_minor": 2
}
